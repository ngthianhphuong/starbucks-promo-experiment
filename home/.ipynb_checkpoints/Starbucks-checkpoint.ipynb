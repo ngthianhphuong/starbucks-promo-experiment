{
 "cells": [
  {
   "cell_type": "markdown",
   "metadata": {},
   "source": [
    "## Portfolio Exercise: Starbucks\n",
    "<br>\n",
    "\n",
    "<img src=\"https://opj.ca/wp-content/uploads/2018/02/New-Starbucks-Logo-1200x969.jpg\" width=\"200\" height=\"200\">\n",
    "<br>\n",
    "<br>\n",
    " \n",
    "#### Background Information\n",
    "\n",
    "The dataset you will be provided in this portfolio exercise was originally used as a take-home assignment provided by Starbucks for their job candidates. The data for this exercise consists of about 120,000 data points split in a 2:1 ratio among training and test files. In the experiment simulated by the data, an advertising promotion was tested to see if it would bring more customers to purchase a specific product priced at $10. Since it costs the company 0.15 to send out each promotion, it would be best to limit that promotion only to those that are most receptive to the promotion. Each data point includes one column indicating whether or not an individual was sent a promotion for the product, and one column indicating whether or not that individual eventually purchased that product. Each individual also has seven additional features associated with them, which are provided abstractly as V1-V7.\n",
    "\n",
    "#### Optimization Strategy\n",
    "\n",
    "Your task is to use the training data to understand what patterns in V1-V7 to indicate that a promotion should be provided to a user. Specifically, your goal is to maximize the following metrics:\n",
    "\n",
    "* **Incremental Response Rate (IRR)** \n",
    "\n",
    "IRR depicts how many more customers purchased the product with the promotion, as compared to if they didn't receive the promotion. Mathematically, it's the ratio of the number of purchasers in the promotion group to the total number of customers in the purchasers group (_treatment_) minus the ratio of the number of purchasers in the non-promotional group to the total number of customers in the non-promotional group (_control_).\n",
    "\n",
    "$$ IRR = \\frac{purch_{treat}}{cust_{treat}} - \\frac{purch_{ctrl}}{cust_{ctrl}} $$\n",
    "\n",
    "\n",
    "* **Net Incremental Revenue (NIR)**\n",
    "\n",
    "NIR depicts how much is made (or lost) by sending out the promotion. Mathematically, this is 10 times the total number of purchasers that received the promotion minus 0.15 times the number of promotions sent out, minus 10 times the number of purchasers who were not given the promotion.\n",
    "\n",
    "$$ NIR = (10\\cdot purch_{treat} - 0.15 \\cdot cust_{treat}) - 10 \\cdot purch_{ctrl}$$\n",
    "\n",
    "For a full description of what Starbucks provides to candidates see the [instructions available here](https://drive.google.com/open?id=18klca9Sef1Rs6q8DW4l7o349r8B70qXM).\n",
    "\n",
    "Below you can find the training data provided.  Explore the data and different optimization strategies.\n",
    "\n",
    "#### How To Test Your Strategy?\n",
    "\n",
    "When you feel like you have an optimization strategy, complete the `promotion_strategy` function to pass to the `test_results` function.  \n",
    "From past data, we know there are four possible outomes:\n",
    "\n",
    "Table of actual promotion vs. predicted promotion customers:  \n",
    "\n",
    "<table>\n",
    "<tr><th></th><th colspan = '2'>Actual</th></tr>\n",
    "<tr><th>Predicted</th><th>Yes</th><th>No</th></tr>\n",
    "<tr><th>Yes</th><td>I</td><td>II</td></tr>\n",
    "<tr><th>No</th><td>III</td><td>IV</td></tr>\n",
    "</table>\n",
    "\n",
    "The metrics are only being compared for the individuals we predict should obtain the promotion – that is, quadrants I and II.  Since the first set of individuals that receive the promotion (in the training set) receive it randomly, we can expect that quadrants I and II will have approximately equivalent participants.  \n",
    "\n",
    "Comparing quadrant I to II then gives an idea of how well your promotion strategy will work in the future. \n",
    "\n",
    "Get started by reading in the data below.  See how each variable or combination of variables along with a promotion influences the chance of purchasing.  When you feel like you have a strategy for who should receive a promotion, test your strategy against the test dataset used in the final `test_results` function."
   ]
  },
  {
   "cell_type": "code",
   "execution_count": 1,
   "metadata": {},
   "outputs": [
    {
     "data": {
      "text/html": [
       "<div>\n",
       "<style scoped>\n",
       "    .dataframe tbody tr th:only-of-type {\n",
       "        vertical-align: middle;\n",
       "    }\n",
       "\n",
       "    .dataframe tbody tr th {\n",
       "        vertical-align: top;\n",
       "    }\n",
       "\n",
       "    .dataframe thead th {\n",
       "        text-align: right;\n",
       "    }\n",
       "</style>\n",
       "<table border=\"1\" class=\"dataframe\">\n",
       "  <thead>\n",
       "    <tr style=\"text-align: right;\">\n",
       "      <th></th>\n",
       "      <th>ID</th>\n",
       "      <th>Promotion</th>\n",
       "      <th>purchase</th>\n",
       "      <th>V1</th>\n",
       "      <th>V2</th>\n",
       "      <th>V3</th>\n",
       "      <th>V4</th>\n",
       "      <th>V5</th>\n",
       "      <th>V6</th>\n",
       "      <th>V7</th>\n",
       "    </tr>\n",
       "  </thead>\n",
       "  <tbody>\n",
       "    <tr>\n",
       "      <th>0</th>\n",
       "      <td>1</td>\n",
       "      <td>No</td>\n",
       "      <td>0</td>\n",
       "      <td>2</td>\n",
       "      <td>30.443518</td>\n",
       "      <td>-1.165083</td>\n",
       "      <td>1</td>\n",
       "      <td>1</td>\n",
       "      <td>3</td>\n",
       "      <td>2</td>\n",
       "    </tr>\n",
       "    <tr>\n",
       "      <th>1</th>\n",
       "      <td>3</td>\n",
       "      <td>No</td>\n",
       "      <td>0</td>\n",
       "      <td>3</td>\n",
       "      <td>32.159350</td>\n",
       "      <td>-0.645617</td>\n",
       "      <td>2</td>\n",
       "      <td>3</td>\n",
       "      <td>2</td>\n",
       "      <td>2</td>\n",
       "    </tr>\n",
       "    <tr>\n",
       "      <th>2</th>\n",
       "      <td>4</td>\n",
       "      <td>No</td>\n",
       "      <td>0</td>\n",
       "      <td>2</td>\n",
       "      <td>30.431659</td>\n",
       "      <td>0.133583</td>\n",
       "      <td>1</td>\n",
       "      <td>1</td>\n",
       "      <td>4</td>\n",
       "      <td>2</td>\n",
       "    </tr>\n",
       "    <tr>\n",
       "      <th>3</th>\n",
       "      <td>5</td>\n",
       "      <td>No</td>\n",
       "      <td>0</td>\n",
       "      <td>0</td>\n",
       "      <td>26.588914</td>\n",
       "      <td>-0.212728</td>\n",
       "      <td>2</td>\n",
       "      <td>1</td>\n",
       "      <td>4</td>\n",
       "      <td>2</td>\n",
       "    </tr>\n",
       "    <tr>\n",
       "      <th>4</th>\n",
       "      <td>8</td>\n",
       "      <td>Yes</td>\n",
       "      <td>0</td>\n",
       "      <td>3</td>\n",
       "      <td>28.044332</td>\n",
       "      <td>-0.385883</td>\n",
       "      <td>1</td>\n",
       "      <td>1</td>\n",
       "      <td>2</td>\n",
       "      <td>2</td>\n",
       "    </tr>\n",
       "  </tbody>\n",
       "</table>\n",
       "</div>"
      ],
      "text/plain": [
       "   ID Promotion  purchase  V1         V2        V3  V4  V5  V6  V7\n",
       "0   1        No         0   2  30.443518 -1.165083   1   1   3   2\n",
       "1   3        No         0   3  32.159350 -0.645617   2   3   2   2\n",
       "2   4        No         0   2  30.431659  0.133583   1   1   4   2\n",
       "3   5        No         0   0  26.588914 -0.212728   2   1   4   2\n",
       "4   8       Yes         0   3  28.044332 -0.385883   1   1   2   2"
      ]
     },
     "execution_count": 1,
     "metadata": {},
     "output_type": "execute_result"
    }
   ],
   "source": [
    "### load in packages\n",
    "from itertools import combinations\n",
    "\n",
    "from test_results import test_results, score\n",
    "import numpy as np\n",
    "import pandas as pd\n",
    "import scipy as sp\n",
    "\n",
    "import matplotlib.pyplot as plt\n",
    "import seaborn as sb\n",
    "%matplotlib inline\n",
    "\n",
    "# load in the data\n",
    "train_data = pd.read_csv('./training.csv')\n",
    "train_data.head()"
   ]
  },
  {
   "cell_type": "code",
   "execution_count": 2,
   "metadata": {},
   "outputs": [],
   "source": [
    "# Control group: individuals that don't receive the promotion\n",
    "# Experiment group: individuals that receive the promotion"
   ]
  },
  {
   "cell_type": "markdown",
   "metadata": {},
   "source": [
    "**Question 1**: Analyze the results of the experiment and identify the effect of the Treatment on product purchase and Net Incremental Revenue"
   ]
  },
  {
   "cell_type": "code",
   "execution_count": 3,
   "metadata": {},
   "outputs": [
    {
     "data": {
      "text/plain": [
       "array(['No', 'Yes'], dtype=object)"
      ]
     },
     "execution_count": 3,
     "metadata": {},
     "output_type": "execute_result"
    }
   ],
   "source": [
    "train_data.Promotion.unique()"
   ]
  },
  {
   "cell_type": "code",
   "execution_count": 4,
   "metadata": {},
   "outputs": [],
   "source": [
    "# get the number of individuals in each group\n",
    "\n",
    "control_group = train_data[train_data.Promotion == \"No\"]\n",
    "exp_group = train_data[train_data.Promotion == \"Yes\"]\n",
    "\n",
    "\n",
    "n_obs = train_data.shape[0]\n",
    "n_control = control_group.shape[0]\n",
    "n_exp = exp_group.shape[0]"
   ]
  },
  {
   "cell_type": "code",
   "execution_count": 5,
   "metadata": {},
   "outputs": [
    {
     "data": {
      "text/plain": [
       "0.507064"
      ]
     },
     "execution_count": 5,
     "metadata": {},
     "output_type": "execute_result"
    }
   ],
   "source": [
    "# verify whether there is a balance in the number of individuals in each group\n",
    "\n",
    "binomial = np.random.binomial(n=n_obs, p=0.5, size=500000)\n",
    "p_value = ((binomial <= n_control) | (binomial >= n_exp)).mean()\n",
    "p_value"
   ]
  },
  {
   "cell_type": "markdown",
   "metadata": {},
   "source": [
    "Large p_value indicates that we fail to reject the null hypothesis."
   ]
  },
  {
   "cell_type": "code",
   "execution_count": 6,
   "metadata": {},
   "outputs": [],
   "source": [
    "# calculate the purchase rate in each group: this shows that the purchase rate is higher in experimental group\n",
    "\n",
    "pr_control = control_group.purchase.mean()\n",
    "pr_exp = exp_group.purchase.mean()"
   ]
  },
  {
   "cell_type": "code",
   "execution_count": 7,
   "metadata": {},
   "outputs": [],
   "source": [
    "# calculate the purchase rate under the null hypothesis, where there is no difference in purchase rate between 2 groups\n",
    "\n",
    "pr_null = train_data.purchase.mean()"
   ]
  },
  {
   "cell_type": "code",
   "execution_count": 8,
   "metadata": {},
   "outputs": [
    {
     "data": {
      "text/plain": [
       "0.0"
      ]
     },
     "execution_count": 8,
     "metadata": {},
     "output_type": "execute_result"
    }
   ],
   "source": [
    "# calculate standard error (under null hypothesis)\n",
    "\n",
    "se = np.sqrt(pr_null * (1 - pr_null) * (1/n_control + 1/n_exp))\n",
    "\n",
    "# calculate z-score from our statistic (which is the difference between two download rates)\n",
    "\n",
    "z_score = (pr_exp - pr_control)/se\n",
    "\n",
    "# calculate p-value\n",
    "\n",
    "p_value = 1 - sp.stats.norm.cdf(z_score) # alternative is greater, we take the right part.\n",
    "\n",
    "p_value"
   ]
  },
  {
   "cell_type": "code",
   "execution_count": 9,
   "metadata": {
    "scrolled": true
   },
   "outputs": [
    {
     "name": "stdout",
     "output_type": "stream",
     "text": [
      "0.0\n"
     ]
    },
    {
     "data": {
      "image/png": "[encoded data removed]",
      "text/plain": [
       "<Figure size 432x288 with 1 Axes>"
      ]
     },
     "metadata": {
      "needs_background": "light"
     },
     "output_type": "display_data"
    }
   ],
   "source": [
    "# another solution using simulation approach\n",
    "\n",
    "pr_null = train_data.purchase.mean()\n",
    "\n",
    "# simulate two distributions that represent the number of purchase for each group under null hypothesis\n",
    "purchase_dists_control = np.random.binomial(n_control, pr_null, 500000)\n",
    "purchase_dists_exp = np.random.binomial(n_exp, pr_null, 500000)\n",
    "\n",
    "# calculate the difference in number of purchase rate (this is also a distribution)\n",
    "diff_pr = purchase_dists_exp/n_exp - purchase_dists_control/n_control\n",
    "\n",
    "plt.hist(diff_pr)\n",
    "plt.axvline(pr_exp - pr_control, color=\"red\");\n",
    "\n",
    "p_value = (diff_pr > (pr_exp - pr_control)).mean()\n",
    "print(p_value)"
   ]
  },
  {
   "cell_type": "markdown",
   "metadata": {},
   "source": [
    "Small p-value indicates that the purchase rate in the experiment group is statistically higher than the control group."
   ]
  },
  {
   "cell_type": "code",
   "execution_count": 10,
   "metadata": {},
   "outputs": [
    {
     "name": "stdout",
     "output_type": "stream",
     "text": [
      "(0.007966893156987826, 0.010944048560745274)\n"
     ]
    }
   ],
   "source": [
    "# calculate the confidence interval of the difference in purchase rate between two groups\n",
    "\n",
    "purchase_dists_control = np.random.binomial(n_control, pr_control, 500000) # number of purchases in control group\n",
    "purchase_dists_exp = np.random.binomial(n_exp, pr_exp, 500000) # number of purchases in experiment group\n",
    "\n",
    "diffs_pr = purchase_dists_exp/n_exp - purchase_dists_control/n_control\n",
    "\n",
    "print((np.percentile(diffs_pr, 2.5), np.percentile(diffs_pr, 97.5)))\n",
    "\n",
    "# We are 95% confident that the purchase rate of the experiment group is between 0.76% and 1.05% higher than the control group"
   ]
  },
  {
   "cell_type": "code",
   "execution_count": 11,
   "metadata": {},
   "outputs": [
    {
     "name": "stdout",
     "output_type": "stream",
     "text": [
      "(-2964.5999999999995, -1704.5999999999995)\n"
     ]
    }
   ],
   "source": [
    "# calculate the confidence interval of net incremental revenue\n",
    "\n",
    "net_incre_revenue = purchase_dists_exp*10 - purchase_dists_control*10 - 0.15*n_exp\n",
    "\n",
    "print((np.percentile(net_incre_revenue, 2.5), np.percentile(net_incre_revenue, 97.5)))"
   ]
  },
  {
   "cell_type": "code",
   "execution_count": 12,
   "metadata": {},
   "outputs": [
    {
     "data": {
      "image/png": "[encoded data removed]",
      "text/plain": [
       "<Figure size 432x288 with 1 Axes>"
      ]
     },
     "metadata": {
      "needs_background": "light"
     },
     "output_type": "display_data"
    }
   ],
   "source": [
    "plt.hist(net_incre_revenue);"
   ]
  },
  {
   "cell_type": "code",
   "execution_count": null,
   "metadata": {},
   "outputs": [],
   "source": [
    "# try bootstrapping method to calculate the confidence interval of net incremental revenue\n",
    "\n",
    "nets = []\n",
    "\n",
    "for i in range(10000):\n",
    "    sample = train_data.sample(train_data.shape[0], replace=True)\n",
    "    control_group = sample[sample.Promotion == \"No\"]\n",
    "    exp_group = sample[sample.Promotion == \"Yes\"]\n",
    "\n",
    "    n_control = control_group.shape[0]\n",
    "    n_exp = exp_group.shape[0]\n",
    "    \n",
    "    purchase_control = control_group.purchase.sum()\n",
    "    purchase_exp = exp_group.purchase.sum()\n",
    "    \n",
    "    nets.append(10*purchase_exp - 10*purchase_control - 0.15*n_exp)\n",
    "\n",
    "nets = np.array(nets)\n",
    "plt.hist(nets);\n",
    "\n",
    "print((np.percentile(nets, 2.5), np.percentile(nets, 97.5)))"
   ]
  },
  {
   "cell_type": "code",
   "execution_count": 14,
   "metadata": {},
   "outputs": [
    {
     "data": {
      "text/plain": [
       "34226.5"
      ]
     },
     "execution_count": 14,
     "metadata": {},
     "output_type": "execute_result"
    }
   ],
   "source": [
    "# what is the net incremental revenue of the experiment?\n",
    "\n",
    "purchase_control = control_group.query(\"purchase == 1\").size\n",
    "purchase_exp = exp_group.query(\"purchase == 1\").size\n",
    "\n",
    "net = 10*purchase_exp - 0.15*n_exp - 10*purchase_control\n",
    "net"
   ]
  },
  {
   "cell_type": "code",
   "execution_count": null,
   "metadata": {},
   "outputs": [],
   "source": [
    "# simulate a normal distribution under null hypothesis: where net incremental revenue equals 0\n",
    "\n",
    "norm = np.random.normal(0, np.std(nets), nets.size)\n",
    "\n",
    "plt.hist(norm)\n",
    "plt.axvline(net, color=\"red\");"
   ]
  },
  {
   "cell_type": "markdown",
   "metadata": {},
   "source": [
    "**Question 2**: Build a model to select the best customers to target that maximizes the Incremental Response Rate and Net Incremental Revenue. "
   ]
  },
  {
   "cell_type": "code",
   "execution_count": 16,
   "metadata": {},
   "outputs": [],
   "source": [
    "def promotion_strategy(df):\n",
    "    '''\n",
    "    INPUT \n",
    "    df - a dataframe with *only* the columns V1 - V7 (same as train_data)\n",
    "\n",
    "    OUTPUT\n",
    "    promotion_df - np.array with the values\n",
    "                   'Yes' or 'No' related to whether or not an \n",
    "                   individual should recieve a promotion \n",
    "                   should be the length of df.shape[0]\n",
    "                \n",
    "    Ex:\n",
    "    INPUT: df\n",
    "    \n",
    "    V1\tV2\t  V3\tV4\tV5\tV6\tV7\n",
    "    2\t30\t-1.1\t1\t1\t3\t2\n",
    "    3\t32\t-0.6\t2\t3\t2\t2\n",
    "    2\t30\t0.13\t1\t1\t4\t2\n",
    "    \n",
    "    OUTPUT: promotion\n",
    "    \n",
    "    array(['Yes', 'Yes', 'No'])\n",
    "    indicating the first two users would recieve the promotion and \n",
    "    the last should not.\n",
    "    '''\n",
    "    \n",
    "    \n",
    "    \n",
    "    \n",
    "    return promotion"
   ]
  },
  {
   "cell_type": "code",
   "execution_count": null,
   "metadata": {},
   "outputs": [],
   "source": [
    "# This will test your results, and provide you back some information \n",
    "# on how well your promotion_strategy will work in practice\n",
    "\n",
    "# predict whether an individual should receive a promo\n",
    "# test_results checks whether that individual actually purchases, among those are predicted to receive a promo\n",
    "# then calculate IRR and NIR\n",
    "\n",
    "test_results(promotion_strategy)"
   ]
  },
  {
   "cell_type": "code",
   "execution_count": 13,
   "metadata": {},
   "outputs": [
    {
     "name": "stdout",
     "output_type": "stream",
     "text": [
      "42170 42364\n"
     ]
    }
   ],
   "source": [
    "# the metrics are being compared for the individuals we predict should obtain the promotion\n",
    "# in the training set, the individuals receive the promotion randomly. \n",
    "# we expect that quadrant I and II will have approximatively equivalent participants: n_control and n_exp\n",
    "\n",
    "print(n_control, n_exp)"
   ]
  },
  {
   "cell_type": "code",
   "execution_count": 14,
   "metadata": {},
   "outputs": [],
   "source": [
    "# individuals receive the promotion randomly, but we observe anyway a higher purchase rate in experiment group\n",
    "# let's compare V1 to V7 between two groups\n"
   ]
  },
  {
   "cell_type": "code",
   "execution_count": 15,
   "metadata": {},
   "outputs": [
    {
     "data": {
      "text/html": [
       "<div>\n",
       "<style scoped>\n",
       "    .dataframe tbody tr th:only-of-type {\n",
       "        vertical-align: middle;\n",
       "    }\n",
       "\n",
       "    .dataframe tbody tr th {\n",
       "        vertical-align: top;\n",
       "    }\n",
       "\n",
       "    .dataframe thead th {\n",
       "        text-align: right;\n",
       "    }\n",
       "</style>\n",
       "<table border=\"1\" class=\"dataframe\">\n",
       "  <thead>\n",
       "    <tr style=\"text-align: right;\">\n",
       "      <th></th>\n",
       "      <th>ID</th>\n",
       "      <th>purchase</th>\n",
       "      <th>V1</th>\n",
       "      <th>V2</th>\n",
       "      <th>V3</th>\n",
       "      <th>V4</th>\n",
       "      <th>V5</th>\n",
       "      <th>V6</th>\n",
       "      <th>V7</th>\n",
       "    </tr>\n",
       "  </thead>\n",
       "  <tbody>\n",
       "    <tr>\n",
       "      <th>count</th>\n",
       "      <td>42170.000000</td>\n",
       "      <td>42170.000000</td>\n",
       "      <td>42170.000000</td>\n",
       "      <td>42170.000000</td>\n",
       "      <td>42170.000000</td>\n",
       "      <td>42170.000000</td>\n",
       "      <td>42170.000000</td>\n",
       "      <td>42170.000000</td>\n",
       "      <td>42170.000000</td>\n",
       "    </tr>\n",
       "    <tr>\n",
       "      <th>mean</th>\n",
       "      <td>63094.836661</td>\n",
       "      <td>0.007565</td>\n",
       "      <td>1.496277</td>\n",
       "      <td>29.976876</td>\n",
       "      <td>-0.007099</td>\n",
       "      <td>1.680270</td>\n",
       "      <td>2.330638</td>\n",
       "      <td>2.501565</td>\n",
       "      <td>1.702205</td>\n",
       "    </tr>\n",
       "    <tr>\n",
       "      <th>std</th>\n",
       "      <td>36537.629680</td>\n",
       "      <td>0.086646</td>\n",
       "      <td>0.868229</td>\n",
       "      <td>4.996765</td>\n",
       "      <td>1.002915</td>\n",
       "      <td>0.466377</td>\n",
       "      <td>0.842093</td>\n",
       "      <td>1.117431</td>\n",
       "      <td>0.457294</td>\n",
       "    </tr>\n",
       "    <tr>\n",
       "      <th>min</th>\n",
       "      <td>1.000000</td>\n",
       "      <td>0.000000</td>\n",
       "      <td>0.000000</td>\n",
       "      <td>8.939305</td>\n",
       "      <td>-1.684550</td>\n",
       "      <td>1.000000</td>\n",
       "      <td>1.000000</td>\n",
       "      <td>1.000000</td>\n",
       "      <td>1.000000</td>\n",
       "    </tr>\n",
       "    <tr>\n",
       "      <th>25%</th>\n",
       "      <td>31528.250000</td>\n",
       "      <td>0.000000</td>\n",
       "      <td>1.000000</td>\n",
       "      <td>26.608910</td>\n",
       "      <td>-0.905350</td>\n",
       "      <td>1.000000</td>\n",
       "      <td>2.000000</td>\n",
       "      <td>2.000000</td>\n",
       "      <td>1.000000</td>\n",
       "    </tr>\n",
       "    <tr>\n",
       "      <th>50%</th>\n",
       "      <td>62922.000000</td>\n",
       "      <td>0.000000</td>\n",
       "      <td>1.000000</td>\n",
       "      <td>29.969732</td>\n",
       "      <td>-0.039572</td>\n",
       "      <td>2.000000</td>\n",
       "      <td>2.000000</td>\n",
       "      <td>3.000000</td>\n",
       "      <td>2.000000</td>\n",
       "    </tr>\n",
       "    <tr>\n",
       "      <th>75%</th>\n",
       "      <td>94893.750000</td>\n",
       "      <td>0.000000</td>\n",
       "      <td>2.000000</td>\n",
       "      <td>33.354970</td>\n",
       "      <td>0.826206</td>\n",
       "      <td>2.000000</td>\n",
       "      <td>3.000000</td>\n",
       "      <td>4.000000</td>\n",
       "      <td>2.000000</td>\n",
       "    </tr>\n",
       "    <tr>\n",
       "      <th>max</th>\n",
       "      <td>126184.000000</td>\n",
       "      <td>1.000000</td>\n",
       "      <td>3.000000</td>\n",
       "      <td>50.375913</td>\n",
       "      <td>1.691984</td>\n",
       "      <td>2.000000</td>\n",
       "      <td>4.000000</td>\n",
       "      <td>4.000000</td>\n",
       "      <td>2.000000</td>\n",
       "    </tr>\n",
       "  </tbody>\n",
       "</table>\n",
       "</div>"
      ],
      "text/plain": [
       "                  ID      purchase            V1            V2            V3  \\\n",
       "count   42170.000000  42170.000000  42170.000000  42170.000000  42170.000000   \n",
       "mean    63094.836661      0.007565      1.496277     29.976876     -0.007099   \n",
       "std     36537.629680      0.086646      0.868229      4.996765      1.002915   \n",
       "min         1.000000      0.000000      0.000000      8.939305     -1.684550   \n",
       "25%     31528.250000      0.000000      1.000000     26.608910     -0.905350   \n",
       "50%     62922.000000      0.000000      1.000000     29.969732     -0.039572   \n",
       "75%     94893.750000      0.000000      2.000000     33.354970      0.826206   \n",
       "max    126184.000000      1.000000      3.000000     50.375913      1.691984   \n",
       "\n",
       "                 V4            V5            V6            V7  \n",
       "count  42170.000000  42170.000000  42170.000000  42170.000000  \n",
       "mean       1.680270      2.330638      2.501565      1.702205  \n",
       "std        0.466377      0.842093      1.117431      0.457294  \n",
       "min        1.000000      1.000000      1.000000      1.000000  \n",
       "25%        1.000000      2.000000      2.000000      1.000000  \n",
       "50%        2.000000      2.000000      3.000000      2.000000  \n",
       "75%        2.000000      3.000000      4.000000      2.000000  \n",
       "max        2.000000      4.000000      4.000000      2.000000  "
      ]
     },
     "execution_count": 15,
     "metadata": {},
     "output_type": "execute_result"
    }
   ],
   "source": [
    "control_group.describe()"
   ]
  },
  {
   "cell_type": "code",
   "execution_count": 16,
   "metadata": {},
   "outputs": [
    {
     "data": {
      "text/html": [
       "<div>\n",
       "<style scoped>\n",
       "    .dataframe tbody tr th:only-of-type {\n",
       "        vertical-align: middle;\n",
       "    }\n",
       "\n",
       "    .dataframe tbody tr th {\n",
       "        vertical-align: top;\n",
       "    }\n",
       "\n",
       "    .dataframe thead th {\n",
       "        text-align: right;\n",
       "    }\n",
       "</style>\n",
       "<table border=\"1\" class=\"dataframe\">\n",
       "  <thead>\n",
       "    <tr style=\"text-align: right;\">\n",
       "      <th></th>\n",
       "      <th>ID</th>\n",
       "      <th>purchase</th>\n",
       "      <th>V1</th>\n",
       "      <th>V2</th>\n",
       "      <th>V3</th>\n",
       "      <th>V4</th>\n",
       "      <th>V5</th>\n",
       "      <th>V6</th>\n",
       "      <th>V7</th>\n",
       "    </tr>\n",
       "  </thead>\n",
       "  <tbody>\n",
       "    <tr>\n",
       "      <th>count</th>\n",
       "      <td>42364.000000</td>\n",
       "      <td>42364.000000</td>\n",
       "      <td>42364.000000</td>\n",
       "      <td>42364.000000</td>\n",
       "      <td>42364.000000</td>\n",
       "      <td>42364.000000</td>\n",
       "      <td>42364.000000</td>\n",
       "      <td>42364.000000</td>\n",
       "      <td>42364.000000</td>\n",
       "    </tr>\n",
       "    <tr>\n",
       "      <th>mean</th>\n",
       "      <td>62847.675385</td>\n",
       "      <td>0.017019</td>\n",
       "      <td>1.505028</td>\n",
       "      <td>29.970338</td>\n",
       "      <td>0.007446</td>\n",
       "      <td>1.678949</td>\n",
       "      <td>2.324662</td>\n",
       "      <td>2.504225</td>\n",
       "      <td>1.701185</td>\n",
       "    </tr>\n",
       "    <tr>\n",
       "      <th>std</th>\n",
       "      <td>36299.420024</td>\n",
       "      <td>0.129344</td>\n",
       "      <td>0.868226</td>\n",
       "      <td>5.024443</td>\n",
       "      <td>0.998020</td>\n",
       "      <td>0.466886</td>\n",
       "      <td>0.840242</td>\n",
       "      <td>1.117279</td>\n",
       "      <td>0.457744</td>\n",
       "    </tr>\n",
       "    <tr>\n",
       "      <th>min</th>\n",
       "      <td>8.000000</td>\n",
       "      <td>0.000000</td>\n",
       "      <td>0.000000</td>\n",
       "      <td>7.104007</td>\n",
       "      <td>-1.684550</td>\n",
       "      <td>1.000000</td>\n",
       "      <td>1.000000</td>\n",
       "      <td>1.000000</td>\n",
       "      <td>1.000000</td>\n",
       "    </tr>\n",
       "    <tr>\n",
       "      <th>25%</th>\n",
       "      <td>31387.500000</td>\n",
       "      <td>0.000000</td>\n",
       "      <td>1.000000</td>\n",
       "      <td>26.571116</td>\n",
       "      <td>-0.818772</td>\n",
       "      <td>1.000000</td>\n",
       "      <td>2.000000</td>\n",
       "      <td>2.000000</td>\n",
       "      <td>1.000000</td>\n",
       "    </tr>\n",
       "    <tr>\n",
       "      <th>50%</th>\n",
       "      <td>62717.000000</td>\n",
       "      <td>0.000000</td>\n",
       "      <td>2.000000</td>\n",
       "      <td>29.989227</td>\n",
       "      <td>0.047006</td>\n",
       "      <td>2.000000</td>\n",
       "      <td>2.000000</td>\n",
       "      <td>3.000000</td>\n",
       "      <td>2.000000</td>\n",
       "    </tr>\n",
       "    <tr>\n",
       "      <th>75%</th>\n",
       "      <td>93960.500000</td>\n",
       "      <td>0.000000</td>\n",
       "      <td>2.000000</td>\n",
       "      <td>33.332278</td>\n",
       "      <td>0.826206</td>\n",
       "      <td>2.000000</td>\n",
       "      <td>3.000000</td>\n",
       "      <td>4.000000</td>\n",
       "      <td>2.000000</td>\n",
       "    </tr>\n",
       "    <tr>\n",
       "      <th>max</th>\n",
       "      <td>126181.000000</td>\n",
       "      <td>1.000000</td>\n",
       "      <td>3.000000</td>\n",
       "      <td>49.823708</td>\n",
       "      <td>1.691984</td>\n",
       "      <td>2.000000</td>\n",
       "      <td>4.000000</td>\n",
       "      <td>4.000000</td>\n",
       "      <td>2.000000</td>\n",
       "    </tr>\n",
       "  </tbody>\n",
       "</table>\n",
       "</div>"
      ],
      "text/plain": [
       "                  ID      purchase            V1            V2            V3  \\\n",
       "count   42364.000000  42364.000000  42364.000000  42364.000000  42364.000000   \n",
       "mean    62847.675385      0.017019      1.505028     29.970338      0.007446   \n",
       "std     36299.420024      0.129344      0.868226      5.024443      0.998020   \n",
       "min         8.000000      0.000000      0.000000      7.104007     -1.684550   \n",
       "25%     31387.500000      0.000000      1.000000     26.571116     -0.818772   \n",
       "50%     62717.000000      0.000000      2.000000     29.989227      0.047006   \n",
       "75%     93960.500000      0.000000      2.000000     33.332278      0.826206   \n",
       "max    126181.000000      1.000000      3.000000     49.823708      1.691984   \n",
       "\n",
       "                 V4            V5            V6            V7  \n",
       "count  42364.000000  42364.000000  42364.000000  42364.000000  \n",
       "mean       1.678949      2.324662      2.504225      1.701185  \n",
       "std        0.466886      0.840242      1.117279      0.457744  \n",
       "min        1.000000      1.000000      1.000000      1.000000  \n",
       "25%        1.000000      2.000000      2.000000      1.000000  \n",
       "50%        2.000000      2.000000      3.000000      2.000000  \n",
       "75%        2.000000      3.000000      4.000000      2.000000  \n",
       "max        2.000000      4.000000      4.000000      2.000000  "
      ]
     },
     "execution_count": 16,
     "metadata": {},
     "output_type": "execute_result"
    }
   ],
   "source": [
    "exp_group.describe()"
   ]
  },
  {
   "cell_type": "markdown",
   "metadata": {},
   "source": [
    "Observations:\n",
    "\n",
    "V1 ranges from 0 to 3\n",
    "\n",
    "V2 is a continuous variable\n",
    "\n",
    "V3 looks like a score, ranges from -1.69 to 1.69\n",
    "\n",
    "V4 ranges from 1 to 2\n",
    "\n",
    "V5 ranges from 1 to 4\n",
    "\n",
    "V6 ranges from 1 to 4\n",
    "\n",
    "V7 ranges from 1 to 2"
   ]
  },
  {
   "cell_type": "code",
   "execution_count": 17,
   "metadata": {},
   "outputs": [],
   "source": [
    "# compare the purchaser features in control vs experiment group\n",
    "# to see the influence of promotion\n",
    "\n",
    "features = train_data.columns[-7:]\n",
    "\n",
    "# retrieve purchasers from each group\n",
    "control_group_purchasers = control_group.query(\"purchase == 1\")\n",
    "exp_group_purchasers = exp_group.query(\"purchase == 1\")"
   ]
  },
  {
   "cell_type": "code",
   "execution_count": 18,
   "metadata": {},
   "outputs": [
    {
     "data": {
      "image/png": "[encoded data removed]",
      "text/plain": [
       "<Figure size 432x288 with 1 Axes>"
      ]
     },
     "metadata": {
      "needs_background": "light"
     },
     "output_type": "display_data"
    }
   ],
   "source": [
    "# plot how the percentage of V1's values differ from control purchasers to experiment purchasers\n",
    "\n",
    "fig = plt.figure()\n",
    "ax = fig.add_axes([0,0,1,1])\n",
    "X = np.arange(4, dtype=\"int\")\n",
    "rects1 = ax.bar(X - 0.25/2, control_group_purchasers[\"V1\"].value_counts(sort=False, normalize=True), color=\"b\", width = 0.25, label = \"Control\")\n",
    "rects2 = ax.bar(X + 0.25/2, exp_group_purchasers[\"V1\"].value_counts(sort=False, normalize=True), color=\"g\", width = 0.25, label = \"Experiment\")\n",
    "ax.set_xticks(X)\n",
    "ax.set_xticklabels(['0', '1', '2', '3'])\n",
    "ax.legend()\n",
    "\n",
    "def autolabel(rects):\n",
    "    \"\"\"Attach a text label above each bar in *rects*, displaying its height.\"\"\"\n",
    "    for rect in rects:\n",
    "        height = rect.get_height()\n",
    "        ax.annotate('{:.3f}'.format(height),\n",
    "                    xy=(rect.get_x() + rect.get_width() / 2, height),\n",
    "                    xytext=(0, 3),\n",
    "                    textcoords=\"offset points\",\n",
    "                    ha='center', va='bottom')\n",
    "\n",
    "\n",
    "autolabel(rects1)\n",
    "autolabel(rects2)\n",
    "\n",
    "plt.show()"
   ]
  },
  {
   "cell_type": "markdown",
   "metadata": {},
   "source": [
    "We can see that individuals that have 2 as V1's value, they tend to be sensitive to promotion."
   ]
  },
  {
   "cell_type": "code",
   "execution_count": 19,
   "metadata": {},
   "outputs": [
    {
     "data": {
      "text/plain": [
       "Promotion\n",
       "No     29.982026\n",
       "Yes    29.860180\n",
       "Name: V2, dtype: float64"
      ]
     },
     "execution_count": 19,
     "metadata": {},
     "output_type": "execute_result"
    }
   ],
   "source": [
    "# plot how V2's mean differ from control purchaser to experimental purchaser\n",
    "\n",
    "purchasers = train_data.query(\"purchase == 1\")\n",
    "purchasers.groupby(\"Promotion\").mean()[\"V2\"]"
   ]
  },
  {
   "cell_type": "code",
   "execution_count": 20,
   "metadata": {},
   "outputs": [
    {
     "data": {
      "image/png": "[encoded data removed]",
      "text/plain": [
       "<Figure size 432x288 with 1 Axes>"
      ]
     },
     "metadata": {
      "needs_background": "light"
     },
     "output_type": "display_data"
    }
   ],
   "source": [
    "plt.bar([\"No\", \"Yes\"], purchasers.groupby(\"Promotion\").mean()[\"V2\"])\n",
    "plt.axhline(purchasers[\"V2\"].mean(), color=\"red\");"
   ]
  },
  {
   "cell_type": "code",
   "execution_count": 21,
   "metadata": {},
   "outputs": [
    {
     "data": {
      "text/plain": [
       "Promotion\n",
       "No     29.976837\n",
       "Yes    29.972246\n",
       "Name: V2, dtype: float64"
      ]
     },
     "execution_count": 21,
     "metadata": {},
     "output_type": "execute_result"
    }
   ],
   "source": [
    "non_purchasers = train_data.query(\"purchase == 0\")\n",
    "non_purchasers.groupby(\"Promotion\").mean()[\"V2\"]"
   ]
  },
  {
   "cell_type": "markdown",
   "metadata": {},
   "source": [
    "V2 looks same between control purchasers and experimental purchasers."
   ]
  },
  {
   "cell_type": "code",
   "execution_count": 22,
   "metadata": {},
   "outputs": [
    {
     "data": {
      "image/png": "[encoded data removed]",
      "text/plain": [
       "<Figure size 432x288 with 1 Axes>"
      ]
     },
     "metadata": {
      "needs_background": "light"
     },
     "output_type": "display_data"
    }
   ],
   "source": [
    "# check how V3 differs from control purchaser to experiment purchaser\n",
    "purchasers.groupby(\"Promotion\")[\"V3\"].plot.kde()\n",
    "plt.legend();"
   ]
  },
  {
   "cell_type": "code",
   "execution_count": 23,
   "metadata": {},
   "outputs": [
    {
     "data": {
      "text/plain": [
       "count    319.000000\n",
       "mean       0.088530\n",
       "std        0.980618\n",
       "min       -1.684550\n",
       "25%       -0.818772\n",
       "50%        0.133583\n",
       "75%        0.912784\n",
       "max        1.691984\n",
       "Name: V3, dtype: float64"
      ]
     },
     "execution_count": 23,
     "metadata": {},
     "output_type": "execute_result"
    }
   ],
   "source": [
    "control_group_purchasers.V3.describe()"
   ]
  },
  {
   "cell_type": "code",
   "execution_count": 24,
   "metadata": {},
   "outputs": [
    {
     "data": {
      "text/plain": [
       "count    721.000000\n",
       "mean      -0.121587\n",
       "std        0.982063\n",
       "min       -1.684550\n",
       "25%       -0.991928\n",
       "50%       -0.212728\n",
       "75%        0.653050\n",
       "max        1.691984\n",
       "Name: V3, dtype: float64"
      ]
     },
     "execution_count": 24,
     "metadata": {},
     "output_type": "execute_result"
    }
   ],
   "source": [
    "exp_group_purchasers.V3.describe()"
   ]
  },
  {
   "cell_type": "code",
   "execution_count": 25,
   "metadata": {},
   "outputs": [
    {
     "data": {
      "image/png": "[encoded data removed]",
      "text/plain": [
       "<Figure size 432x288 with 1 Axes>"
      ]
     },
     "metadata": {
      "needs_background": "light"
     },
     "output_type": "display_data"
    }
   ],
   "source": [
    "non_purchasers.groupby(\"Promotion\")[\"V3\"].plot.kde()\n",
    "plt.legend();"
   ]
  },
  {
   "cell_type": "markdown",
   "metadata": {},
   "source": [
    "Observation: \n",
    "\n",
    "- The mode of non-promotional group purchaser is around 1, while of promotional group purchaser is around -0.5.\n",
    "- The density plot pattern looks same for control and experiment groups.\n",
    "- Control group purchasers and experiment group purchasers have exactly same min and max.\n",
    "\n",
    "V3 is like a score that indexes something."
   ]
  },
  {
   "cell_type": "code",
   "execution_count": 26,
   "metadata": {},
   "outputs": [
    {
     "data": {
      "image/png": "[encoded data removed]",
      "text/plain": [
       "<Figure size 432x288 with 1 Axes>"
      ]
     },
     "metadata": {
      "needs_background": "light"
     },
     "output_type": "display_data"
    }
   ],
   "source": [
    "train_data.groupby(\"Promotion\")[\"V3\"].plot.kde()\n",
    "plt.legend();"
   ]
  },
  {
   "cell_type": "code",
   "execution_count": 27,
   "metadata": {},
   "outputs": [
    {
     "data": {
      "image/png": "[encoded data removed]",
      "text/plain": [
       "<Figure size 432x288 with 1 Axes>"
      ]
     },
     "metadata": {
      "needs_background": "light"
     },
     "output_type": "display_data"
    }
   ],
   "source": [
    "# in experiment group, lot of purchasers have their V3 feature around -0.8 and 0.5\n",
    "# non purchaser V3 feature is distributed evenly between min and max\n",
    "\n",
    "exp_group.groupby(\"purchase\")[\"V3\"].plot.kde()\n",
    "plt.legend();"
   ]
  },
  {
   "cell_type": "code",
   "execution_count": 28,
   "metadata": {},
   "outputs": [
    {
     "data": {
      "image/png": "[encoded data removed]",
      "text/plain": [
       "<Figure size 432x288 with 1 Axes>"
      ]
     },
     "metadata": {
      "needs_background": "light"
     },
     "output_type": "display_data"
    }
   ],
   "source": [
    "# in control group, lot of purchasers have their V3 feature around -1 and 0.5\n",
    "# non purchaser V3 feature is distributed evenly between min and max\n",
    "\n",
    "control_group.groupby(\"purchase\")[\"V3\"].plot.kde()\n",
    "plt.legend();"
   ]
  },
  {
   "cell_type": "code",
   "execution_count": 29,
   "metadata": {},
   "outputs": [
    {
     "data": {
      "image/png": "[encoded data removed]",
      "text/plain": [
       "<Figure size 432x288 with 1 Axes>"
      ]
     },
     "metadata": {
      "needs_background": "light"
     },
     "output_type": "display_data"
    }
   ],
   "source": [
    "# check how V4 differs from control purchasers to experiment purchasers\n",
    "\n",
    "fig = plt.figure()\n",
    "ax = fig.add_axes([0,0,1,1])\n",
    "X = np.array([1, 2])\n",
    "rects1 = ax.bar(X - 0.25/2, control_group_purchasers[\"V4\"].value_counts(sort=False, normalize=True), color=\"b\", width = 0.25, label = \"Control\")\n",
    "rects2 = ax.bar(X + 0.25/2, exp_group_purchasers[\"V4\"].value_counts(sort=False, normalize=True), color=\"g\", width = 0.25, label = \"Experiment\")\n",
    "ax.set_xticks(X)\n",
    "ax.set_xticklabels(['1', '2'])\n",
    "ax.legend()\n",
    "\n",
    "autolabel(rects1)\n",
    "autolabel(rects2)\n",
    "\n",
    "plt.show()"
   ]
  },
  {
   "cell_type": "markdown",
   "metadata": {},
   "source": [
    "We can see there is much more purchasers that have 2 as V4's value in experiment group."
   ]
  },
  {
   "cell_type": "code",
   "execution_count": 30,
   "metadata": {},
   "outputs": [
    {
     "data": {
      "image/png": "[encoded data removed]",
      "text/plain": [
       "<Figure size 432x288 with 1 Axes>"
      ]
     },
     "metadata": {
      "needs_background": "light"
     },
     "output_type": "display_data"
    }
   ],
   "source": [
    "# check how V5 differs from control purchasers to experiment purchasers\n",
    "\n",
    "fig = plt.figure()\n",
    "ax = fig.add_axes([0,0,1,1])\n",
    "X = np.array([1, 2, 3, 4])\n",
    "rects1 = ax.bar(X - 0.25/2, control_group_purchasers[\"V5\"].value_counts(sort=False, normalize=True), color=\"b\", width = 0.25, label = \"Control\")\n",
    "rects2 = ax.bar(X + 0.25/2, exp_group_purchasers[\"V5\"].value_counts(sort=False, normalize=True), color=\"g\", width = 0.25, label = \"Experiment\")\n",
    "ax.set_xticks(X)\n",
    "ax.set_xticklabels(['1', '2', '3', '4'])\n",
    "ax.legend()\n",
    "\n",
    "autolabel(rects1)\n",
    "autolabel(rects2)\n",
    "\n",
    "plt.show()"
   ]
  },
  {
   "cell_type": "markdown",
   "metadata": {},
   "source": [
    "Purchasers in experiment group are likely to have 3 as V5 feature"
   ]
  },
  {
   "cell_type": "code",
   "execution_count": 31,
   "metadata": {},
   "outputs": [
    {
     "data": {
      "image/png": "[encoded data removed]",
      "text/plain": [
       "<Figure size 432x288 with 1 Axes>"
      ]
     },
     "metadata": {
      "needs_background": "light"
     },
     "output_type": "display_data"
    }
   ],
   "source": [
    "# check how V6 differs from control purchasers to experiment purchasers\n",
    "\n",
    "fig = plt.figure()\n",
    "ax = fig.add_axes([0,0,1,1])\n",
    "X = np.array([1, 2, 3, 4])\n",
    "rects1 = ax.bar(X - 0.25/2, control_group_purchasers[\"V6\"].value_counts(sort=False, normalize=True), color=\"b\", width = 0.25, label = \"Control\")\n",
    "rects2 = ax.bar(X + 0.25/2, exp_group_purchasers[\"V6\"].value_counts(sort=False, normalize=True), color=\"g\", width = 0.25, label = \"Experiment\")\n",
    "ax.set_xticks(X)\n",
    "ax.set_xticklabels(['1', '2', '3', '4'])\n",
    "ax.legend()\n",
    "\n",
    "autolabel(rects1)\n",
    "autolabel(rects2)\n",
    "\n",
    "plt.show()"
   ]
  },
  {
   "cell_type": "markdown",
   "metadata": {},
   "source": [
    "Purchasers in both control and experiment group have their V6 feature evenly distributed among 4 values."
   ]
  },
  {
   "cell_type": "code",
   "execution_count": 32,
   "metadata": {},
   "outputs": [
    {
     "data": {
      "image/png": "[encoded data removed]",
      "text/plain": [
       "<Figure size 432x288 with 1 Axes>"
      ]
     },
     "metadata": {
      "needs_background": "light"
     },
     "output_type": "display_data"
    }
   ],
   "source": [
    "# check how V7 differs from control purchasers to experiment purchasers\n",
    "\n",
    "fig = plt.figure()\n",
    "ax = fig.add_axes([0,0,1,1])\n",
    "X = np.array([1, 2])\n",
    "rects1 = ax.bar(X - 0.25/2, control_group_purchasers[\"V7\"].value_counts(sort=False, normalize=True), color=\"b\", width = 0.25, label = \"Control\")\n",
    "rects2 = ax.bar(X + 0.25/2, exp_group_purchasers[\"V7\"].value_counts(sort=False, normalize=True), color=\"g\", width = 0.25, label = \"Experiment\")\n",
    "ax.set_xticks(X)\n",
    "ax.set_xticklabels(['1', '2'])\n",
    "ax.legend()\n",
    "\n",
    "autolabel(rects1)\n",
    "autolabel(rects2)\n",
    "\n",
    "plt.show()"
   ]
  },
  {
   "cell_type": "markdown",
   "metadata": {},
   "source": [
    "In experiment group, purchasers are less likely to have 2 as V7 feature than in control group."
   ]
  },
  {
   "cell_type": "markdown",
   "metadata": {},
   "source": [
    "We've seen what is different between purchasers in control group and purchasers in experiment group. We need to increase the number of purchasers in experiment group. We'll build a model that predict whether a user is likely to become a purchaser based on its features.\n",
    "\n",
    "- features: V1 to V7\n",
    "- target variable: purchase"
   ]
  },
  {
   "cell_type": "code",
   "execution_count": 33,
   "metadata": {},
   "outputs": [
    {
     "name": "stdout",
     "output_type": "stream",
     "text": [
      "Nice job!  See how well your strategy worked on our test data below!\n",
      "\n",
      "Your irr with this strategy is 0.0104.\n",
      "\n",
      "Your nir with this strategy is -484.30.\n",
      "We came up with a model with an irr of 0.0188 and an nir of 189.45 on the test set.\n",
      "\n",
      " How did you do?\n"
     ]
    },
    {
     "data": {
      "text/plain": [
       "(0.010391036893478171, -484.29999999999995)"
      ]
     },
     "execution_count": 33,
     "metadata": {},
     "output_type": "execute_result"
    }
   ],
   "source": [
    "# if I give randomly the promotion to the users, what will be IRR and NIR? This is the baseline.\n",
    "\n",
    "def promotion_strategy(df):\n",
    "    \n",
    "    np.random.seed(42)\n",
    "    promotion = np.random.choice([\"Yes\", \"No\"], size=df.shape[0], p=[0.5, 0.5])\n",
    "    \n",
    "    return promotion\n",
    "\n",
    "test_results(promotion_strategy)"
   ]
  },
  {
   "cell_type": "markdown",
   "metadata": {},
   "source": [
    "So the base line is IRR 1.04% and NIR -484.3"
   ]
  },
  {
   "cell_type": "markdown",
   "metadata": {},
   "source": [
    "#### First model: predict whether an individual will become a purchaser based on his features (V1 to V7)"
   ]
  },
  {
   "cell_type": "code",
   "execution_count": 34,
   "metadata": {},
   "outputs": [],
   "source": [
    "from sklearn.pipeline import Pipeline\n",
    "from sklearn.preprocessing import StandardScaler, OneHotEncoder\n",
    "from sklearn.compose import ColumnTransformer\n",
    "from sklearn.model_selection import train_test_split, cross_val_score\n",
    "from sklearn.ensemble import RandomForestClassifier\n",
    "from sklearn.linear_model import LogisticRegression\n",
    "import xgboost as xgb\n",
    "from imblearn.over_sampling import SMOTE\n",
    "\n",
    "from sklearn.metrics import accuracy_score, roc_auc_score"
   ]
  },
  {
   "cell_type": "code",
   "execution_count": 35,
   "metadata": {},
   "outputs": [],
   "source": [
    "# separate categorical and continous variables\n",
    "\n",
    "cat_cols = [\"V1\", \"V4\", \"V5\", \"V6\", \"V7\"]\n",
    "num_cols = [\"V2\", \"V3\"]\n",
    "\n",
    "# pipeline\n",
    "\n",
    "num_cols_pipeline = Pipeline([(\"scaler\", StandardScaler())])\n",
    "cat_cols_pipeline = Pipeline([(\"encoder\", OneHotEncoder())])\n",
    "\n",
    "# full pipeline\n",
    "preprocessor = ColumnTransformer(transformers = [(\"num\", num_cols_pipeline, num_cols),\n",
    "                                                    (\"cat\", cat_cols_pipeline, cat_cols)])"
   ]
  },
  {
   "cell_type": "code",
   "execution_count": 36,
   "metadata": {},
   "outputs": [
    {
     "name": "stdout",
     "output_type": "stream",
     "text": [
      "(166988, 18)\n",
      "Training set has 133590 samples.\n",
      "Validation set has 33398 samples.\n",
      "Number of features in training set: 18.\n",
      "Number of features in validation set: 18.\n"
     ]
    }
   ],
   "source": [
    "# retrieve target variable\n",
    "y = train_data.purchase\n",
    "\n",
    "# retrieve feature variables\n",
    "features = train_data.drop([\"ID\", \"purchase\", \"Promotion\"], axis=1)\n",
    "\n",
    "# upsampling\n",
    "upsampling = SMOTE(random_state=42)\n",
    "features_up, y_up = upsampling.fit_resample(features, y)\n",
    "\n",
    "# fit and transform features\n",
    "X = preprocessor.fit_transform(features_up)\n",
    "\n",
    "print(X.shape)\n",
    "\n",
    "# split X and y into training and validation set\n",
    "X_train, X_val, y_train, y_val = train_test_split(X, y_up, test_size=0.2, random_state=42)\n",
    "\n",
    "# show the results of the split\n",
    "print(\"Training set has {} samples.\".format(X_train.shape[0]))\n",
    "print(\"Validation set has {} samples.\".format(X_val.shape[0]))\n",
    "\n",
    "# show number of features\n",
    "print(\"Number of features in training set: {}.\".format(X_train.shape[1]))\n",
    "print(\"Number of features in validation set: {}.\".format(X_val.shape[1]))"
   ]
  },
  {
   "cell_type": "code",
   "execution_count": 37,
   "metadata": {},
   "outputs": [],
   "source": [
    "def train_predict(model, features_train, target_train, features_val, target_val):\n",
    "    \n",
    "    '''Function that trains model on training set and makes predictions on validation set.\n",
    "    Arguments:\n",
    "        model: the learning algorithm (Logistic Regression, Random Forest...)\n",
    "    Returns:\n",
    "        results: a dictionary that contains performance on validation set.\n",
    "    '''\n",
    "    \n",
    "    results = {}\n",
    "    \n",
    "    # fit the model in the training set\n",
    "    model.fit(features_train, target_train)\n",
    "    \n",
    "    # make prediction on validation set\n",
    "    preds_val = model.predict(features_val)\n",
    "    preds_proba_val = model.predict_proba(features_val)[:, 1]\n",
    "    \n",
    "    # save evaluation metrics\n",
    "    results['acc_val'] = accuracy_score(target_val, preds_val)\n",
    "    results['auc_val'] = roc_auc_score(target_val, preds_proba_val)\n",
    "    \n",
    "    # print out success message\n",
    "    print(\"Trained {}...\".format(model.__class__.__name__))\n",
    "    \n",
    "    return results"
   ]
  },
  {
   "cell_type": "code",
   "execution_count": 38,
   "metadata": {},
   "outputs": [],
   "source": [
    "random_state=42\n",
    "\n",
    "# initialize the models using default parameters\n",
    "lr = LogisticRegression(random_state=random_state, max_iter = 1000)\n",
    "rf = RandomForestClassifier(random_state=random_state)\n",
    "xg = xgb.XGBClassifier(random_state=random_state)"
   ]
  },
  {
   "cell_type": "code",
   "execution_count": 39,
   "metadata": {},
   "outputs": [
    {
     "name": "stdout",
     "output_type": "stream",
     "text": [
      "Trained LogisticRegression...\n",
      "Trained RandomForestClassifier...\n"
     ]
    },
    {
     "name": "stderr",
     "output_type": "stream",
     "text": [
      "C:\\Users\\Phuong\\Anaconda3\\lib\\site-packages\\xgboost\\sklearn.py:888: UserWarning: The use of label encoder in XGBClassifier is deprecated and will be removed in a future release. To remove this warning, do the following: 1) Pass option use_label_encoder=False when constructing XGBClassifier object; and 2) Encode your labels (y) as integers starting with 0, i.e. 0, 1, 2, ..., [num_class - 1].\n",
      "  warnings.warn(label_encoder_deprecation_msg, UserWarning)\n"
     ]
    },
    {
     "name": "stdout",
     "output_type": "stream",
     "text": [
      "[10:17:43] WARNING: C:/Users/Administrator/workspace/xgboost-win64_release_1.3.0/src/learner.cc:1061: Starting in XGBoost 1.3.0, the default evaluation metric used with the objective 'binary:logistic' was changed from 'error' to 'logloss'. Explicitly set eval_metric if you'd like to restore the old behavior.\n",
      "Trained XGBClassifier...\n"
     ]
    }
   ],
   "source": [
    "results = {}\n",
    "\n",
    "for model in [lr, rf, xg]:\n",
    "    model_name = model.__class__.__name__\n",
    "    results[model_name] = train_predict(model, X_train, y_train, X_val, y_val)"
   ]
  },
  {
   "cell_type": "code",
   "execution_count": 40,
   "metadata": {},
   "outputs": [
    {
     "data": {
      "text/plain": [
       "{'LogisticRegression': {'acc_val': 0.6090185041020421,\n",
       "  'auc_val': 0.6470807130390754},\n",
       " 'RandomForestClassifier': {'acc_val': 0.9581711479729325,\n",
       "  'auc_val': 0.9917813551072814},\n",
       " 'XGBClassifier': {'acc_val': 0.9760165279358045,\n",
       "  'auc_val': 0.9950397274538211}}"
      ]
     },
     "execution_count": 40,
     "metadata": {},
     "output_type": "execute_result"
    }
   ],
   "source": [
    "results"
   ]
  },
  {
   "cell_type": "code",
   "execution_count": 41,
   "metadata": {},
   "outputs": [
    {
     "name": "stdout",
     "output_type": "stream",
     "text": [
      "Number of features in test set: 18.\n"
     ]
    },
    {
     "data": {
      "text/plain": [
       "144"
      ]
     },
     "execution_count": 41,
     "metadata": {},
     "output_type": "execute_result"
    }
   ],
   "source": [
    "# predict on test data\n",
    "\n",
    "test_data = pd.read_csv(\"Test.csv\")\n",
    "test_features = test_data.iloc[:, -7:]\n",
    "\n",
    "X_test = preprocessor.transform(test_features)\n",
    "\n",
    "# show number of features\n",
    "print(\"Number of features in test set: {}.\".format(X_test.shape[1]))\n",
    "preds = xg.predict(X_test)\n",
    "preds.sum()"
   ]
  },
  {
   "cell_type": "code",
   "execution_count": 42,
   "metadata": {},
   "outputs": [
    {
     "name": "stdout",
     "output_type": "stream",
     "text": [
      "Nice job!  See how well your strategy worked on our test data below!\n",
      "\n",
      "Your irr with this strategy is 0.0248.\n",
      "\n",
      "Your nir with this strategy is 8.60.\n",
      "We came up with a model with an irr of 0.0188 and an nir of 189.45 on the test set.\n",
      "\n",
      " How did you do?\n"
     ]
    },
    {
     "data": {
      "text/plain": [
       "(0.024767801857585137, 8.600000000000001)"
      ]
     },
     "execution_count": 42,
     "metadata": {},
     "output_type": "execute_result"
    }
   ],
   "source": [
    "# predict whether the individuals in test set are likely to become purchasers (or should receive the promotion)\n",
    "\n",
    "def promotion_strategy(df):\n",
    "    '''\n",
    "    INPUT \n",
    "    df - a dataframe with *only* the columns V1 - V7 (same as train_data)\n",
    "\n",
    "    OUTPUT\n",
    "    promotion_df - np.array with the values\n",
    "                   'Yes' or 'No' related to whether or not an \n",
    "                   individual should recieve a promotion \n",
    "                   should be the length of df.shape[0]\n",
    "                \n",
    "    Ex:\n",
    "    INPUT: df\n",
    "    \n",
    "    V1\tV2\t  V3\tV4\tV5\tV6\tV7\n",
    "    2\t30\t-1.1\t1\t1\t3\t2\n",
    "    3\t32\t-0.6\t2\t3\t2\t2\n",
    "    2\t30\t0.13\t1\t1\t4\t2\n",
    "    \n",
    "    OUTPUT: promotion\n",
    "    \n",
    "    array(['Yes', 'Yes', 'No'])\n",
    "    indicating the first two users would receive the promotion and \n",
    "    the last should not.\n",
    "    '''\n",
    "    promotion = np.full(fill_value=\"No\", shape=df.shape[0], dtype='<U3')\n",
    "    X_test = preprocessor.transform(df)\n",
    "    preds = xg.predict(X_test)\n",
    "    promotion[np.where(preds==1)] = \"Yes\"\n",
    "    \n",
    "    return promotion\n",
    "\n",
    "test_results(promotion_strategy)"
   ]
  },
  {
   "cell_type": "markdown",
   "metadata": {},
   "source": [
    "#### Second model: predict whether an individual is a promotional purchaser based on his features (V1 to V7)"
   ]
  },
  {
   "cell_type": "markdown",
   "metadata": {},
   "source": [
    "Features are same as above, target is 1 when Promotion == \"Yes\" and purchase == 1, otherwise, target is 0"
   ]
  },
  {
   "cell_type": "code",
   "execution_count": 43,
   "metadata": {},
   "outputs": [],
   "source": [
    "train_data[\"target\"] = 0\n",
    "train_data[\"target\"].mask(((train_data.Promotion == \"Yes\") & (train_data.purchase == 1)), 1, inplace=True)"
   ]
  },
  {
   "cell_type": "code",
   "execution_count": 44,
   "metadata": {},
   "outputs": [
    {
     "name": "stdout",
     "output_type": "stream",
     "text": [
      "(167626, 18)\n",
      "Training set has 134100 samples.\n",
      "Validation set has 33526 samples.\n",
      "Number of features in training set: 18.\n",
      "Number of features in validation set: 18.\n"
     ]
    }
   ],
   "source": [
    "# retrieve target variable\n",
    "y = train_data.target\n",
    "\n",
    "# upsampling\n",
    "upsampling = SMOTE(random_state=42)\n",
    "features_up, y_up = upsampling.fit_resample(features, y)\n",
    "\n",
    "# fit and transform features\n",
    "X = preprocessor.fit_transform(features_up)\n",
    "\n",
    "print(X.shape)\n",
    "\n",
    "# split X and y into training and validation set\n",
    "X_train, X_val, y_train, y_val = train_test_split(X, y_up, test_size=0.2, random_state=42)\n",
    "\n",
    "# show the results of the split\n",
    "print(\"Training set has {} samples.\".format(X_train.shape[0]))\n",
    "print(\"Validation set has {} samples.\".format(X_val.shape[0]))\n",
    "\n",
    "# show number of features\n",
    "print(\"Number of features in training set: {}.\".format(X_train.shape[1]))\n",
    "print(\"Number of features in validation set: {}.\".format(X_val.shape[1]))"
   ]
  },
  {
   "cell_type": "code",
   "execution_count": 45,
   "metadata": {},
   "outputs": [],
   "source": [
    "random_state=42\n",
    "\n",
    "# initialize the models using default parameters\n",
    "lr = LogisticRegression(random_state=random_state, max_iter = 1000)\n",
    "rf = RandomForestClassifier(random_state=random_state)\n",
    "xg = xgb.XGBClassifier(random_state=random_state)"
   ]
  },
  {
   "cell_type": "code",
   "execution_count": 46,
   "metadata": {},
   "outputs": [
    {
     "name": "stdout",
     "output_type": "stream",
     "text": [
      "Trained LogisticRegression...\n",
      "Trained RandomForestClassifier...\n",
      "[10:18:33] WARNING: C:/Users/Administrator/workspace/xgboost-win64_release_1.3.0/src/learner.cc:1061: Starting in XGBoost 1.3.0, the default evaluation metric used with the objective 'binary:logistic' was changed from 'error' to 'logloss'. Explicitly set eval_metric if you'd like to restore the old behavior.\n"
     ]
    },
    {
     "name": "stderr",
     "output_type": "stream",
     "text": [
      "C:\\Users\\Phuong\\Anaconda3\\lib\\site-packages\\xgboost\\sklearn.py:888: UserWarning: The use of label encoder in XGBClassifier is deprecated and will be removed in a future release. To remove this warning, do the following: 1) Pass option use_label_encoder=False when constructing XGBClassifier object; and 2) Encode your labels (y) as integers starting with 0, i.e. 0, 1, 2, ..., [num_class - 1].\n",
      "  warnings.warn(label_encoder_deprecation_msg, UserWarning)\n"
     ]
    },
    {
     "name": "stdout",
     "output_type": "stream",
     "text": [
      "Trained XGBClassifier...\n"
     ]
    },
    {
     "data": {
      "text/plain": [
       "{'LogisticRegression': {'acc_val': 0.6546262602159518,\n",
       "  'auc_val': 0.7023420719395275},\n",
       " 'RandomForestClassifier': {'acc_val': 0.9668615402970828,\n",
       "  'auc_val': 0.9947864822456939},\n",
       " 'XGBClassifier': {'acc_val': 0.9845791326134941,\n",
       "  'auc_val': 0.9969901678022322}}"
      ]
     },
     "execution_count": 46,
     "metadata": {},
     "output_type": "execute_result"
    }
   ],
   "source": [
    "results = {}\n",
    "\n",
    "for model in [lr, rf, xg]:\n",
    "    model_name = model.__class__.__name__\n",
    "    results[model_name] = train_predict(model, X_train, y_train, X_val, y_val)\n",
    "    \n",
    "results"
   ]
  },
  {
   "cell_type": "code",
   "execution_count": 47,
   "metadata": {},
   "outputs": [
    {
     "name": "stdout",
     "output_type": "stream",
     "text": [
      "Nice job!  See how well your strategy worked on our test data below!\n",
      "\n",
      "Your irr with this strategy is 0.0018.\n",
      "\n",
      "Your nir with this strategy is -8.85.\n",
      "We came up with a model with an irr of 0.0188 and an nir of 189.45 on the test set.\n",
      "\n",
      " How did you do?\n"
     ]
    },
    {
     "data": {
      "text/plain": [
       "(0.0017976373908577294, -8.85)"
      ]
     },
     "execution_count": 47,
     "metadata": {},
     "output_type": "execute_result"
    }
   ],
   "source": [
    "# predict whether the individuals in test set are likely to become purchasers (or should receive the promotion)\n",
    "\n",
    "def promotion_strategy(df):\n",
    "    '''\n",
    "    INPUT \n",
    "    df - a dataframe with *only* the columns V1 - V7 (same as train_data)\n",
    "\n",
    "    OUTPUT\n",
    "    promotion_df - np.array with the values\n",
    "                   'Yes' or 'No' related to whether or not an \n",
    "                   individual should recieve a promotion \n",
    "                   should be the length of df.shape[0]\n",
    "                \n",
    "    Ex:\n",
    "    INPUT: df\n",
    "    \n",
    "    V1\tV2\t  V3\tV4\tV5\tV6\tV7\n",
    "    2\t30\t-1.1\t1\t1\t3\t2\n",
    "    3\t32\t-0.6\t2\t3\t2\t2\n",
    "    2\t30\t0.13\t1\t1\t4\t2\n",
    "    \n",
    "    OUTPUT: promotion\n",
    "    \n",
    "    array(['Yes', 'Yes', 'No'])\n",
    "    indicating the first two users would receive the promotion and \n",
    "    the last should not.\n",
    "    '''\n",
    "    promotion = np.full(fill_value=\"No\", shape=df.shape[0], dtype='<U3')\n",
    "    X_test = preprocessor.transform(df)\n",
    "    preds = xg.predict(X_test)\n",
    "    promotion[np.where(preds==1)] = \"Yes\"\n",
    "    \n",
    "    return promotion\n",
    "\n",
    "test_results(promotion_strategy)"
   ]
  },
  {
   "cell_type": "markdown",
   "metadata": {},
   "source": [
    "#### Third model: divide training set into 2 groups: control and experiment. \n",
    "\n",
    "For each group, predict the probability that an individual is likely to purchase based on his features (V1 to V7).\n",
    "The difference on probability between two models shows the uplift of promotion. We will decide to send promotions to those who have a big uplift."
   ]
  },
  {
   "cell_type": "code",
   "execution_count": 48,
   "metadata": {},
   "outputs": [],
   "source": [
    "# split training into control and experiment group\n",
    "\n",
    "# control_group = train_data[train_data.Promotion == \"No\"]\n",
    "# exp_group = train_data[train_data.Promotion == \"Yes\"]\n",
    "\n",
    "# separate categorical and continous variables\n",
    "\n",
    "cat_cols = [\"V1\", \"V4\", \"V5\", \"V6\", \"V7\"]\n",
    "num_cols = [\"V2\", \"V3\"]\n",
    "\n",
    "# pipeline\n",
    "\n",
    "num_cols_pipeline = Pipeline([(\"scaler\", StandardScaler())])\n",
    "cat_cols_pipeline = Pipeline([(\"encoder\", OneHotEncoder())])\n",
    "\n",
    "# full pipeline\n",
    "preprocessor_ctr = ColumnTransformer(transformers = [(\"num\", num_cols_pipeline, num_cols),\n",
    "                                                    (\"cat\", cat_cols_pipeline, cat_cols)])\n",
    "preprocessor_exp = ColumnTransformer(transformers = [(\"num\", num_cols_pipeline, num_cols),\n",
    "                                                    (\"cat\", cat_cols_pipeline, cat_cols)])"
   ]
  },
  {
   "cell_type": "code",
   "execution_count": 49,
   "metadata": {},
   "outputs": [
    {
     "name": "stdout",
     "output_type": "stream",
     "text": [
      "(83702, 18) (83286, 18)\n",
      "Control group:\n",
      "Training set has 66961 samples.\n",
      "Validation set has 16741 samples.\n",
      "Number of features in training set: 18.\n",
      "Number of features in validation set: 18.\n",
      "\n",
      "\n",
      "Experiment group:\n",
      "Training set has 66628 samples.\n",
      "Validation set has 16658 samples.\n",
      "Number of features in training set: 18.\n",
      "Number of features in validation set: 18.\n"
     ]
    }
   ],
   "source": [
    "# retrieve target variable in each group\n",
    "y_ctr = control_group.purchase\n",
    "y_exp = exp_group.purchase\n",
    "\n",
    "# retrieve feature variables in each group\n",
    "features_ctr = control_group.drop([\"ID\", \"purchase\", \"Promotion\"], axis=1)\n",
    "features_exp = exp_group.drop([\"ID\", \"purchase\", \"Promotion\"], axis=1)\n",
    "\n",
    "# upsampling in each group\n",
    "upsampling_ctr = SMOTE(random_state=42)\n",
    "features_ctr_up, y_ctr_up = upsampling_ctr.fit_resample(features_ctr, y_ctr)\n",
    "\n",
    "upsampling_exp = SMOTE(random_state=42)\n",
    "features_exp_up, y_exp_up = upsampling_exp.fit_resample(features_exp, y_exp)\n",
    "\n",
    "# fit and transform features\n",
    "X_ctr = preprocessor_ctr.fit_transform(features_ctr_up)\n",
    "X_exp = preprocessor_exp.fit_transform(features_exp_up)\n",
    "\n",
    "print(X_ctr.shape, X_exp.shape)\n",
    "\n",
    "# split X and y into training and validation set\n",
    "X_ctr_train, X_ctr_val, y_ctr_train, y_ctr_val = train_test_split(X_ctr, y_ctr_up, test_size=0.2, random_state=42)\n",
    "X_exp_train, X_exp_val, y_exp_train, y_exp_val = train_test_split(X_exp, y_exp_up, test_size=0.2, random_state=42)\n",
    "\n",
    "# show the results of the split\n",
    "print(\"Control group:\")\n",
    "print(\"Training set has {} samples.\".format(X_ctr_train.shape[0]))\n",
    "print(\"Validation set has {} samples.\".format(X_ctr_val.shape[0]))\n",
    "# show number of features\n",
    "print(\"Number of features in training set: {}.\".format(X_ctr_train.shape[1]))\n",
    "print(\"Number of features in validation set: {}.\".format(X_ctr_val.shape[1]))\n",
    "\n",
    "print(\"\\n\")\n",
    "# show the results of the split\n",
    "print(\"Experiment group:\")\n",
    "print(\"Training set has {} samples.\".format(X_exp_train.shape[0]))\n",
    "print(\"Validation set has {} samples.\".format(X_exp_val.shape[0]))\n",
    "# show number of features\n",
    "print(\"Number of features in training set: {}.\".format(X_exp_train.shape[1]))\n",
    "print(\"Number of features in validation set: {}.\".format(X_exp_val.shape[1]))"
   ]
  },
  {
   "cell_type": "code",
   "execution_count": 50,
   "metadata": {},
   "outputs": [
    {
     "name": "stdout",
     "output_type": "stream",
     "text": [
      "Trained LogisticRegression...\n",
      "Trained RandomForestClassifier...\n",
      "[10:19:44] WARNING: C:/Users/Administrator/workspace/xgboost-win64_release_1.3.0/src/learner.cc:1061: Starting in XGBoost 1.3.0, the default evaluation metric used with the objective 'binary:logistic' was changed from 'error' to 'logloss'. Explicitly set eval_metric if you'd like to restore the old behavior.\n"
     ]
    },
    {
     "name": "stderr",
     "output_type": "stream",
     "text": [
      "C:\\Users\\Phuong\\Anaconda3\\lib\\site-packages\\xgboost\\sklearn.py:888: UserWarning: The use of label encoder in XGBClassifier is deprecated and will be removed in a future release. To remove this warning, do the following: 1) Pass option use_label_encoder=False when constructing XGBClassifier object; and 2) Encode your labels (y) as integers starting with 0, i.e. 0, 1, 2, ..., [num_class - 1].\n",
      "  warnings.warn(label_encoder_deprecation_msg, UserWarning)\n"
     ]
    },
    {
     "name": "stdout",
     "output_type": "stream",
     "text": [
      "Trained XGBClassifier...\n"
     ]
    },
    {
     "data": {
      "text/plain": [
       "{'LogisticRegression': {'acc_val': 0.6224837225972164,\n",
       "  'auc_val': 0.6689740182279599},\n",
       " 'RandomForestClassifier': {'acc_val': 0.9740158891344604,\n",
       "  'auc_val': 0.9957796194356403},\n",
       " 'XGBClassifier': {'acc_val': 0.9918762320052565,\n",
       "  'auc_val': 0.9974295542317985}}"
      ]
     },
     "execution_count": 50,
     "metadata": {},
     "output_type": "execute_result"
    }
   ],
   "source": [
    "# training on control group\n",
    "\n",
    "random_state=42\n",
    "\n",
    "# initialize the models using default parameters\n",
    "lr = LogisticRegression(random_state=random_state, max_iter = 1000)\n",
    "rf = RandomForestClassifier(random_state=random_state)\n",
    "xg = xgb.XGBClassifier(random_state=random_state)\n",
    "\n",
    "results = {}\n",
    "\n",
    "for model in [lr, rf, xg]:\n",
    "    model_name = model.__class__.__name__\n",
    "    results[model_name] = train_predict(model, X_ctr_train, y_ctr_train, X_ctr_val, y_ctr_val)\n",
    "    \n",
    "results"
   ]
  },
  {
   "cell_type": "code",
   "execution_count": 51,
   "metadata": {},
   "outputs": [
    {
     "data": {
      "text/plain": [
       "XGBClassifier(base_score=0.5, booster='gbtree', colsample_bylevel=1,\n",
       "              colsample_bynode=1, colsample_bytree=1, gamma=0, gpu_id=-1,\n",
       "              importance_type='gain', interaction_constraints='',\n",
       "              learning_rate=0.300000012, max_delta_step=0, max_depth=6,\n",
       "              min_child_weight=1, missing=nan, monotone_constraints='()',\n",
       "              n_estimators=100, n_jobs=4, num_parallel_tree=1, random_state=42,\n",
       "              reg_alpha=0, reg_lambda=1, scale_pos_weight=1, subsample=1,\n",
       "              tree_method='exact', validate_parameters=1, verbosity=None)"
      ]
     },
     "execution_count": 51,
     "metadata": {},
     "output_type": "execute_result"
    }
   ],
   "source": [
    "# keep the best model for control group\n",
    "\n",
    "best_model_ctr = xg\n",
    "best_model_ctr"
   ]
  },
  {
   "cell_type": "code",
   "execution_count": 52,
   "metadata": {},
   "outputs": [
    {
     "name": "stdout",
     "output_type": "stream",
     "text": [
      "Trained LogisticRegression...\n",
      "Trained RandomForestClassifier...\n",
      "[10:19:58] WARNING: C:/Users/Administrator/workspace/xgboost-win64_release_1.3.0/src/learner.cc:1061: Starting in XGBoost 1.3.0, the default evaluation metric used with the objective 'binary:logistic' was changed from 'error' to 'logloss'. Explicitly set eval_metric if you'd like to restore the old behavior.\n"
     ]
    },
    {
     "name": "stderr",
     "output_type": "stream",
     "text": [
      "C:\\Users\\Phuong\\Anaconda3\\lib\\site-packages\\xgboost\\sklearn.py:888: UserWarning: The use of label encoder in XGBClassifier is deprecated and will be removed in a future release. To remove this warning, do the following: 1) Pass option use_label_encoder=False when constructing XGBClassifier object; and 2) Encode your labels (y) as integers starting with 0, i.e. 0, 1, 2, ..., [num_class - 1].\n",
      "  warnings.warn(label_encoder_deprecation_msg, UserWarning)\n"
     ]
    },
    {
     "name": "stdout",
     "output_type": "stream",
     "text": [
      "Trained XGBClassifier...\n"
     ]
    },
    {
     "data": {
      "text/plain": [
       "{'LogisticRegression': {'acc_val': 0.6527194140953295,\n",
       "  'auc_val': 0.6964624211811108},\n",
       " 'RandomForestClassifier': {'acc_val': 0.947712810661544,\n",
       "  'auc_val': 0.9880532935232563},\n",
       " 'XGBClassifier': {'acc_val': 0.9801296674270621,\n",
       "  'auc_val': 0.9950972569129326}}"
      ]
     },
     "execution_count": 52,
     "metadata": {},
     "output_type": "execute_result"
    }
   ],
   "source": [
    "# training on experiment group\n",
    "\n",
    "random_state=42\n",
    "\n",
    "# initialize the models using default parameters\n",
    "lr = LogisticRegression(random_state=random_state, max_iter = 1000)\n",
    "rf = RandomForestClassifier(random_state=random_state)\n",
    "xg = xgb.XGBClassifier(random_state=random_state)\n",
    "\n",
    "results = {}\n",
    "\n",
    "for model in [lr, rf, xg]:\n",
    "    model_name = model.__class__.__name__\n",
    "    results[model_name] = train_predict(model, X_exp_train, y_exp_train, X_exp_val, y_exp_val)\n",
    "    \n",
    "results"
   ]
  },
  {
   "cell_type": "code",
   "execution_count": 53,
   "metadata": {},
   "outputs": [
    {
     "data": {
      "text/plain": [
       "XGBClassifier(base_score=0.5, booster='gbtree', colsample_bylevel=1,\n",
       "              colsample_bynode=1, colsample_bytree=1, gamma=0, gpu_id=-1,\n",
       "              importance_type='gain', interaction_constraints='',\n",
       "              learning_rate=0.300000012, max_delta_step=0, max_depth=6,\n",
       "              min_child_weight=1, missing=nan, monotone_constraints='()',\n",
       "              n_estimators=100, n_jobs=4, num_parallel_tree=1, random_state=42,\n",
       "              reg_alpha=0, reg_lambda=1, scale_pos_weight=1, subsample=1,\n",
       "              tree_method='exact', validate_parameters=1, verbosity=None)"
      ]
     },
     "execution_count": 53,
     "metadata": {},
     "output_type": "execute_result"
    }
   ],
   "source": [
    "# keep the best model for experiment group\n",
    "\n",
    "best_model_exp = xg\n",
    "best_model_exp"
   ]
  },
  {
   "cell_type": "code",
   "execution_count": 89,
   "metadata": {},
   "outputs": [
    {
     "name": "stdout",
     "output_type": "stream",
     "text": [
      "Nice job!  See how well your strategy worked on our test data below!\n",
      "\n",
      "Your irr with this strategy is 0.0245.\n",
      "\n",
      "Your nir with this strategy is 96.10.\n",
      "We came up with a model with an irr of 0.0188 and an nir of 189.45 on the test set.\n",
      "\n",
      " How did you do?\n"
     ]
    },
    {
     "data": {
      "text/plain": [
       "(0.02453260676944887, 96.1)"
      ]
     },
     "execution_count": 89,
     "metadata": {},
     "output_type": "execute_result"
    }
   ],
   "source": [
    "# predict whether the individuals in test set are likely to become purchasers using two models then calculate the uplift\n",
    "from test_results import score\n",
    "\n",
    "def promotion_strategy(df):\n",
    "    '''\n",
    "    INPUT \n",
    "    df - a dataframe with *only* the columns V1 - V7 (same as train_data)\n",
    "\n",
    "    OUTPUT\n",
    "    promotion_df - np.array with the values\n",
    "                   'Yes' or 'No' related to whether or not an \n",
    "                   individual should recieve a promotion \n",
    "                   should be the length of df.shape[0]\n",
    "                \n",
    "    Ex:\n",
    "    INPUT: df\n",
    "    \n",
    "    V1\tV2\t  V3\tV4\tV5\tV6\tV7\n",
    "    2\t30\t-1.1\t1\t1\t3\t2\n",
    "    3\t32\t-0.6\t2\t3\t2\t2\n",
    "    2\t30\t0.13\t1\t1\t4\t2\n",
    "    \n",
    "    OUTPUT: promotion\n",
    "    \n",
    "    array(['Yes', 'Yes', 'No'])\n",
    "    indicating the first two users would receive the promotion and \n",
    "    the last should not.\n",
    "    '''\n",
    "    # the probability that an individual is likely to become a purchaser using control model\n",
    "    X_test_ctr = preprocessor_ctr.transform(df)\n",
    "    preds_ctr = best_model_ctr.predict_proba(X_test_ctr)[:, 1]\n",
    "    \n",
    "    # the probability that an individual is likely to become a purchaser using exp model\n",
    "    X_test_exp = preprocessor_exp.transform(df)\n",
    "    preds_exp = best_model_exp.predict_proba(X_test_exp)[:, 1]\n",
    "    \n",
    "    # calculate the uplift\n",
    "    uplift = preds_exp - preds_ctr\n",
    "    \n",
    "    # we send the promotions to individuals whose the uplift is greater than a threshold\n",
    "    # we look for the threshold that yields to best NIR\n",
    "    \n",
    "    nir_list = []\n",
    "    for percentile in np.arange(0, 100):\n",
    "        promotion = np.full(fill_value=\"No\", shape=df.shape[0], dtype='<U3')\n",
    "        promotion[np.where(uplift > np.percentile(uplift, percentile))] = \"Yes\"\n",
    "        score_df = test_data.iloc[np.where(promotion == 'Yes')] \n",
    "        irr, nir = score(score_df)\n",
    "        nir_list.append(nir)\n",
    "    nir_max_index = np.argmax(nir_list)\n",
    "    \n",
    "    promotion = np.full(fill_value=\"No\", shape=X_test_ctr.shape[0], dtype='<U3')\n",
    "    promotion[np.where(uplift > np.percentile(uplift, nir_max_index))] = \"Yes\"\n",
    "    return promotion\n",
    "\n",
    "test_results(promotion_strategy)"
   ]
  },
  {
   "cell_type": "markdown",
   "metadata": {},
   "source": [
    "#### Fourth model: is pretty similar to the third one, except that we'll account for the treatment group in the model.\n",
    "\n",
    "We will create a new variable called \"treatment\" and will train only one model on the training set.\n",
    "On the test set, we will calculate the probability that an individual is likely to become a purchaser if he is in control group then if he is in the experiment group. \n",
    "The difference on probability between two probabilities shows the uplift of promotion. We will decide to send promotions to those who have a big uplift."
   ]
  },
  {
   "cell_type": "code",
   "execution_count": 112,
   "metadata": {
    "scrolled": true
   },
   "outputs": [
    {
     "data": {
      "text/html": [
       "<div>\n",
       "<style scoped>\n",
       "    .dataframe tbody tr th:only-of-type {\n",
       "        vertical-align: middle;\n",
       "    }\n",
       "\n",
       "    .dataframe tbody tr th {\n",
       "        vertical-align: top;\n",
       "    }\n",
       "\n",
       "    .dataframe thead th {\n",
       "        text-align: right;\n",
       "    }\n",
       "</style>\n",
       "<table border=\"1\" class=\"dataframe\">\n",
       "  <thead>\n",
       "    <tr style=\"text-align: right;\">\n",
       "      <th></th>\n",
       "      <th>ID</th>\n",
       "      <th>Promotion</th>\n",
       "      <th>purchase</th>\n",
       "      <th>V1</th>\n",
       "      <th>V2</th>\n",
       "      <th>V3</th>\n",
       "      <th>V4</th>\n",
       "      <th>V5</th>\n",
       "      <th>V6</th>\n",
       "      <th>V7</th>\n",
       "      <th>treatment</th>\n",
       "    </tr>\n",
       "  </thead>\n",
       "  <tbody>\n",
       "    <tr>\n",
       "      <th>0</th>\n",
       "      <td>1</td>\n",
       "      <td>No</td>\n",
       "      <td>0</td>\n",
       "      <td>2</td>\n",
       "      <td>30.443518</td>\n",
       "      <td>-1.165083</td>\n",
       "      <td>1</td>\n",
       "      <td>1</td>\n",
       "      <td>3</td>\n",
       "      <td>2</td>\n",
       "      <td>0</td>\n",
       "    </tr>\n",
       "    <tr>\n",
       "      <th>1</th>\n",
       "      <td>3</td>\n",
       "      <td>No</td>\n",
       "      <td>0</td>\n",
       "      <td>3</td>\n",
       "      <td>32.159350</td>\n",
       "      <td>-0.645617</td>\n",
       "      <td>2</td>\n",
       "      <td>3</td>\n",
       "      <td>2</td>\n",
       "      <td>2</td>\n",
       "      <td>0</td>\n",
       "    </tr>\n",
       "    <tr>\n",
       "      <th>2</th>\n",
       "      <td>4</td>\n",
       "      <td>No</td>\n",
       "      <td>0</td>\n",
       "      <td>2</td>\n",
       "      <td>30.431659</td>\n",
       "      <td>0.133583</td>\n",
       "      <td>1</td>\n",
       "      <td>1</td>\n",
       "      <td>4</td>\n",
       "      <td>2</td>\n",
       "      <td>0</td>\n",
       "    </tr>\n",
       "    <tr>\n",
       "      <th>3</th>\n",
       "      <td>5</td>\n",
       "      <td>No</td>\n",
       "      <td>0</td>\n",
       "      <td>0</td>\n",
       "      <td>26.588914</td>\n",
       "      <td>-0.212728</td>\n",
       "      <td>2</td>\n",
       "      <td>1</td>\n",
       "      <td>4</td>\n",
       "      <td>2</td>\n",
       "      <td>0</td>\n",
       "    </tr>\n",
       "    <tr>\n",
       "      <th>4</th>\n",
       "      <td>8</td>\n",
       "      <td>Yes</td>\n",
       "      <td>0</td>\n",
       "      <td>3</td>\n",
       "      <td>28.044332</td>\n",
       "      <td>-0.385883</td>\n",
       "      <td>1</td>\n",
       "      <td>1</td>\n",
       "      <td>2</td>\n",
       "      <td>2</td>\n",
       "      <td>1</td>\n",
       "    </tr>\n",
       "  </tbody>\n",
       "</table>\n",
       "</div>"
      ],
      "text/plain": [
       "   ID Promotion  purchase  V1         V2        V3  V4  V5  V6  V7  treatment\n",
       "0   1        No         0   2  30.443518 -1.165083   1   1   3   2          0\n",
       "1   3        No         0   3  32.159350 -0.645617   2   3   2   2          0\n",
       "2   4        No         0   2  30.431659  0.133583   1   1   4   2          0\n",
       "3   5        No         0   0  26.588914 -0.212728   2   1   4   2          0\n",
       "4   8       Yes         0   3  28.044332 -0.385883   1   1   2   2          1"
      ]
     },
     "execution_count": 112,
     "metadata": {},
     "output_type": "execute_result"
    }
   ],
   "source": [
    "# create a new variable called \"treatment\" that receives 1 as value if the individual receives a promo and 0 otherwise\n",
    "train_data = pd.read_csv('./training.csv')\n",
    "train_data[\"treatment\"] = 0\n",
    "train_data[\"treatment\"].mask(train_data.Promotion == \"Yes\", 1, inplace=True)\n",
    "train_data.head()"
   ]
  },
  {
   "cell_type": "code",
   "execution_count": 113,
   "metadata": {},
   "outputs": [],
   "source": [
    "# separate categorical and continous variables\n",
    "\n",
    "cat_cols = [\"V1\", \"V4\", \"V5\", \"V6\", \"V7\", \"treatment\"]\n",
    "num_cols = [\"V2\", \"V3\"]\n",
    "\n",
    "# pipeline\n",
    "\n",
    "num_cols_pipeline = Pipeline([(\"scaler\", StandardScaler())])\n",
    "cat_cols_pipeline = Pipeline([(\"encoder\", OneHotEncoder())])\n",
    "\n",
    "# full pipeline\n",
    "preprocessor = ColumnTransformer(transformers = [(\"num\", num_cols_pipeline, num_cols),\n",
    "                                                    (\"cat\", cat_cols_pipeline, cat_cols)])"
   ]
  },
  {
   "cell_type": "code",
   "execution_count": 114,
   "metadata": {},
   "outputs": [
    {
     "name": "stdout",
     "output_type": "stream",
     "text": [
      "(166988, 20)\n",
      "Training set has 133590 samples.\n",
      "Validation set has 33398 samples.\n",
      "Number of features in training set: 20.\n",
      "Number of features in validation set: 20.\n"
     ]
    }
   ],
   "source": [
    "# retrieve target variable\n",
    "y = train_data.purchase\n",
    "\n",
    "# retrieve the features\n",
    "features = train_data.iloc[:, -8:]\n",
    "\n",
    "# upsampling\n",
    "upsampling = SMOTE(random_state=42)\n",
    "features_up, y_up = upsampling.fit_resample(features, y)\n",
    "\n",
    "# fit and transform features\n",
    "X = preprocessor.fit_transform(features_up)\n",
    "\n",
    "print(X.shape)\n",
    "\n",
    "# split X and y into training and validation set\n",
    "X_train, X_val, y_train, y_val = train_test_split(X, y_up, test_size=0.2, random_state=42)\n",
    "\n",
    "# show the results of the split\n",
    "print(\"Training set has {} samples.\".format(X_train.shape[0]))\n",
    "print(\"Validation set has {} samples.\".format(X_val.shape[0]))\n",
    "\n",
    "# show number of features\n",
    "print(\"Number of features in training set: {}.\".format(X_train.shape[1]))\n",
    "print(\"Number of features in validation set: {}.\".format(X_val.shape[1]))"
   ]
  },
  {
   "cell_type": "code",
   "execution_count": 115,
   "metadata": {},
   "outputs": [
    {
     "name": "stdout",
     "output_type": "stream",
     "text": [
      "Trained LogisticRegression...\n",
      "Trained RandomForestClassifier...\n"
     ]
    },
    {
     "name": "stderr",
     "output_type": "stream",
     "text": [
      "C:\\Users\\Phuong\\Anaconda3\\lib\\site-packages\\xgboost\\sklearn.py:888: UserWarning: The use of label encoder in XGBClassifier is deprecated and will be removed in a future release. To remove this warning, do the following: 1) Pass option use_label_encoder=False when constructing XGBClassifier object; and 2) Encode your labels (y) as integers starting with 0, i.e. 0, 1, 2, ..., [num_class - 1].\n",
      "  warnings.warn(label_encoder_deprecation_msg, UserWarning)\n"
     ]
    },
    {
     "name": "stdout",
     "output_type": "stream",
     "text": [
      "[11:41:27] WARNING: C:/Users/Administrator/workspace/xgboost-win64_release_1.3.0/src/learner.cc:1061: Starting in XGBoost 1.3.0, the default evaluation metric used with the objective 'binary:logistic' was changed from 'error' to 'logloss'. Explicitly set eval_metric if you'd like to restore the old behavior.\n",
      "Trained XGBClassifier...\n"
     ]
    },
    {
     "data": {
      "text/plain": [
       "{'LogisticRegression': {'acc_val': 0.6121624049344272,\n",
       "  'auc_val': 0.664632610530341},\n",
       " 'RandomForestClassifier': {'acc_val': 0.9658662195341038,\n",
       "  'auc_val': 0.9935381077659635},\n",
       " 'XGBClassifier': {'acc_val': 0.9780525779986825,\n",
       "  'auc_val': 0.9955261409139338}}"
      ]
     },
     "execution_count": 115,
     "metadata": {},
     "output_type": "execute_result"
    }
   ],
   "source": [
    "random_state=42\n",
    "\n",
    "# initialize the models using default parameters\n",
    "lr = LogisticRegression(random_state=random_state, max_iter = 1000)\n",
    "rf = RandomForestClassifier(random_state=random_state)\n",
    "xg = xgb.XGBClassifier(random_state=random_state)\n",
    "\n",
    "results = {}\n",
    "\n",
    "for model in [lr, rf, xg]:\n",
    "    model_name = model.__class__.__name__\n",
    "    results[model_name] = train_predict(model, X_train, y_train, X_val, y_val)\n",
    "    \n",
    "results"
   ]
  },
  {
   "cell_type": "code",
   "execution_count": 117,
   "metadata": {},
   "outputs": [
    {
     "name": "stdout",
     "output_type": "stream",
     "text": [
      "Nice job!  See how well your strategy worked on our test data below!\n",
      "\n",
      "Your irr with this strategy is 0.0179.\n",
      "\n",
      "Your nir with this strategy is 258.30.\n",
      "We came up with a model with an irr of 0.0188 and an nir of 189.45 on the test set.\n",
      "\n",
      " How did you do?\n"
     ]
    },
    {
     "data": {
      "text/plain": [
       "(0.01787127536814333, 258.29999999999995)"
      ]
     },
     "execution_count": 117,
     "metadata": {},
     "output_type": "execute_result"
    }
   ],
   "source": [
    "# predict whether the individuals in test set are likely to become purchasers using two models then calculate the uplift\n",
    "from test_results import score\n",
    "\n",
    "def promotion_strategy(df):\n",
    "    '''\n",
    "    INPUT \n",
    "    df - a dataframe with *only* the columns V1 - V7 (same as train_data)\n",
    "\n",
    "    OUTPUT\n",
    "    promotion_df - np.array with the values\n",
    "                   'Yes' or 'No' related to whether or not an \n",
    "                   individual should recieve a promotion \n",
    "                   should be the length of df.shape[0]\n",
    "                \n",
    "    Ex:\n",
    "    INPUT: df\n",
    "    \n",
    "    V1\tV2\t  V3\tV4\tV5\tV6\tV7\n",
    "    2\t30\t-1.1\t1\t1\t3\t2\n",
    "    3\t32\t-0.6\t2\t3\t2\t2\n",
    "    2\t30\t0.13\t1\t1\t4\t2\n",
    "    \n",
    "    OUTPUT: promotion\n",
    "    \n",
    "    array(['Yes', 'Yes', 'No'])\n",
    "    indicating the first two users would receive the promotion and \n",
    "    the last should not.\n",
    "    '''\n",
    "    # the probability that an individual is likely to become a purchaser if he is in control group\n",
    "    X_test_ctr = preprocessor.transform(pd.concat([df, pd.Series(np.full(fill_value=0, shape=df.shape[0]), name=\"treatment\")], axis=1))\n",
    "    preds_ctr = xg.predict_proba(X_test_ctr)[:, 1]\n",
    "    \n",
    "    # the probability that an individual is likely to become a purchaser if he is in experiment group\n",
    "    X_test_exp = preprocessor.transform(pd.concat([df, pd.Series(np.full(fill_value=1, shape=df.shape[0]), name=\"treatment\")], axis=1))\n",
    "    preds_exp = xg.predict_proba(X_test_exp)[:, 1]\n",
    "    \n",
    "    # calculate the uplift\n",
    "    uplift = preds_exp - preds_ctr\n",
    "    \n",
    "    # we send the promotions to individuals whose the uplift is greater than a threshold\n",
    "    # we look for the threshold that yields to best NIR\n",
    "    \n",
    "    nir_list = []\n",
    "    for percentile in np.arange(0, 100):\n",
    "        promotion = np.full(fill_value=\"No\", shape=df.shape[0], dtype='<U3')\n",
    "        promotion[np.where(uplift > np.percentile(uplift, percentile))] = \"Yes\"\n",
    "        score_df = test_data.iloc[np.where(promotion == 'Yes')]\n",
    "        irr, nir = score(score_df)\n",
    "        nir_list.append(nir)\n",
    "    nir_max_index = np.argmax(nir_list)\n",
    "    \n",
    "    promotion = np.full(fill_value=\"No\", shape=df.shape[0], dtype='<U3')\n",
    "    promotion[np.where(uplift > np.percentile(uplift, nir_max_index))] = \"Yes\"\n",
    "    \n",
    "    return promotion\n",
    "\n",
    "test_results(promotion_strategy)"
   ]
  },
  {
   "cell_type": "markdown",
   "metadata": {},
   "source": [
    "**Conclusion:** To summarize, the fourth strategy yields to best performance. "
   ]
  },
  {
   "cell_type": "code",
   "execution_count": null,
   "metadata": {},
   "outputs": [],
   "source": []
  }
 ],
 "metadata": {
  "kernelspec": {
   "display_name": "Python 3",
   "language": "python",
   "name": "python3"
  },
  "language_info": {
   "codemirror_mode": {
    "name": "ipython",
    "version": 3
   },
   "file_extension": ".py",
   "mimetype": "text/x-python",
   "name": "python",
   "nbconvert_exporter": "python",
   "pygments_lexer": "ipython3",
   "version": "3.7.1"
  }
 },
 "nbformat": 4,
 "nbformat_minor": 2
}
